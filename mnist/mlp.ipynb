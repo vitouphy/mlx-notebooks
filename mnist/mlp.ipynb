{
 "cells": [
  {
   "cell_type": "code",
   "execution_count": 1,
   "metadata": {},
   "outputs": [],
   "source": [
    "import mlx.core as mx\n",
    "import mlx.nn as nn\n",
    "import mlx.optimizers as optim\n",
    "\n",
    "import mnist"
   ]
  },
  {
   "cell_type": "code",
   "execution_count": 2,
   "metadata": {},
   "outputs": [
    {
     "data": {
      "text/plain": [
       "Device(gpu, 0)"
      ]
     },
     "execution_count": 2,
     "metadata": {},
     "output_type": "execute_result"
    }
   ],
   "source": [
    "device = mx.gpu\n",
    "mx.set_default_device(device)\n",
    "mx.default_device() # Device(gpu, 0)"
   ]
  },
  {
   "cell_type": "markdown",
   "metadata": {},
   "source": [
    "# Dataset"
   ]
  },
  {
   "cell_type": "markdown",
   "metadata": {},
   "source": [
    "- MNIST dataset contains 60,000 training samples of 28x28 images. \n",
    "- These images are reshaped into the size of 784. \n",
    "- There are 10 labels (0  to 9)"
   ]
  },
  {
   "cell_type": "code",
   "execution_count": 3,
   "metadata": {},
   "outputs": [],
   "source": [
    "# read mnist dataset and map into mx array\n",
    "train_x, train_y, test_x, test_y = map(mx.array, mnist.mnist())"
   ]
  },
  {
   "cell_type": "code",
   "execution_count": 4,
   "metadata": {},
   "outputs": [
    {
     "name": "stdout",
     "output_type": "stream",
     "text": [
      "<class 'mlx.core.array'>\n",
      "[60000, 784]\n",
      "[60000]\n",
      "[10000, 784]\n"
     ]
    }
   ],
   "source": [
    "print (type(train_x)) # <class 'mlx.core.array'>\n",
    "print (train_x.shape) # [60000, 784]\n",
    "print (train_y.shape) # [60000]\n",
    "print (test_x.shape) # [10000, 784]"
   ]
  },
  {
   "cell_type": "markdown",
   "metadata": {},
   "source": [
    "# Modeling"
   ]
  },
  {
   "cell_type": "code",
   "execution_count": 5,
   "metadata": {},
   "outputs": [],
   "source": [
    "class MLP(nn.Module):\n",
    "    def __init__(self, num_inputs, num_outputs):\n",
    "        super().__init__()\n",
    "        self.dense1 = nn.Linear(num_inputs, 100)\n",
    "        self.dense2 = nn.Linear(100, num_outputs)\n",
    "    \n",
    "    def __call__(self, x):\n",
    "        out = self.dense1(x)\n",
    "        out = nn.relu(out)\n",
    "        out = self.dense2(out)\n",
    "        return out"
   ]
  },
  {
   "cell_type": "code",
   "execution_count": 6,
   "metadata": {},
   "outputs": [],
   "source": [
    "# loss function should include the model. I tried to have y_hat and y\n",
    "# it seems the gradient get reduced to 0. Maybe because the connection loss \n",
    "# when y_hat is passed\n",
    "def loss_fn(model, X, y):\n",
    "    return mx.mean(nn.losses.cross_entropy(model(X), y))"
   ]
  },
  {
   "cell_type": "markdown",
   "metadata": {},
   "source": [
    "# Training"
   ]
  },
  {
   "cell_type": "code",
   "execution_count": 7,
   "metadata": {},
   "outputs": [
    {
     "name": "stdout",
     "output_type": "stream",
     "text": [
      "there are 117 steps per epoch\n"
     ]
    }
   ],
   "source": [
    "# HyperParamters\n",
    "learning_rate = 5e-3\n",
    "batch_size = 512\n",
    "num_epochs = 50\n",
    "num_steps_per_epoch = train_x.shape[0] // batch_size\n",
    "num_feature_in = train_x.shape[1]\n",
    "num_feature_out = 10\n",
    "\n",
    "print (f\"there are {num_steps_per_epoch} steps per epoch\")"
   ]
  },
  {
   "cell_type": "code",
   "execution_count": 8,
   "metadata": {},
   "outputs": [],
   "source": [
    "model = MLP(num_feature_in, num_feature_out)\n",
    "optimizer = optim.SGD(learning_rate=learning_rate)\n",
    "\n",
    "# The model is lazy load. Initialization won't build any values\n",
    "# So, we manually run `mx.eval` to instantiate the model\n",
    "mx.eval(model.parameters(), optimizer.state)\n",
    "\n",
    "# get a \"function\" to compute graident of loss_fn w.r.t. the model parameters\n",
    "loss_and_grad_fn = nn.value_and_grad(model, loss_fn)"
   ]
  },
  {
   "cell_type": "code",
   "execution_count": 9,
   "metadata": {},
   "outputs": [],
   "source": [
    "def evaluate(x, y_label):\n",
    "    n = y_label.shape[0]\n",
    "    y_pred = model(x)\n",
    "    y_pred = y_pred.argmax(axis=1)\n",
    "    score = mx.sum(y_label == y_pred) / n\n",
    "    return score.item()"
   ]
  },
  {
   "cell_type": "code",
   "execution_count": 10,
   "metadata": {},
   "outputs": [
    {
     "name": "stdout",
     "output_type": "stream",
     "text": [
      "epoch: 0 | accuracy: 0.06459999829530716\n",
      "epoch: 5 | accuracy: 0.7459999918937683\n",
      "epoch: 10 | accuracy: 0.8299999833106995\n",
      "epoch: 15 | accuracy: 0.8629000186920166\n",
      "epoch: 20 | accuracy: 0.8773000240325928\n",
      "epoch: 25 | accuracy: 0.8870999813079834\n",
      "epoch: 30 | accuracy: 0.8920999765396118\n",
      "epoch: 35 | accuracy: 0.8953999876976013\n",
      "epoch: 40 | accuracy: 0.8984000086784363\n",
      "epoch: 45 | accuracy: 0.9000999927520752\n",
      "epoch: 50 | accuracy: 0.9025999903678894\n"
     ]
    }
   ],
   "source": [
    "num_steps = (train_x.shape[0] // batch_size) * num_epochs\n",
    "losses = []\n",
    "accuracy = []\n",
    "\n",
    "# start with an eval\n",
    "score = evaluate(test_x, test_y)\n",
    "accuracy.append(score)\n",
    "print(f\"epoch: 0 | accuracy: {score}\")\n",
    "\n",
    "# start training\n",
    "for epoch in range(num_epochs):\n",
    "    for i in range(num_steps_per_epoch):\n",
    "        x = train_x[i*batch_size : (i+1)*batch_size]\n",
    "        y = train_y[i*batch_size : (i+1)*batch_size]\n",
    "\n",
    "        # This function expects the input just like `loss_fn`\n",
    "        loss, grads = loss_and_grad_fn(model, x, y)\n",
    "        optimizer.update(model, grads)\n",
    "        # Again, nothing runs until `mx.eval` is called\n",
    "        mx.eval(model.parameters(), optimizer.state)\n",
    "        \n",
    "        losses.append(loss.item())\n",
    "\n",
    "    # evaluate\n",
    "    score = evaluate(test_x, test_y)\n",
    "    accuracy.append(score)\n",
    "    if (epoch+1) % 5 == 0:\n",
    "        print(f\"epoch: {epoch+1} | accuracy: {score}\")"
   ]
  },
  {
   "cell_type": "code",
   "execution_count": 11,
   "metadata": {},
   "outputs": [
    {
     "data": {
      "text/plain": [
       "Text(0, 0.5, 'accuracy')"
      ]
     },
     "execution_count": 11,
     "metadata": {},
     "output_type": "execute_result"
    },
    {
     "data": {
      "image/png": "[encoded data removed]",
      "text/plain": [
       "<Figure size 640x480 with 1 Axes>"
      ]
     },
     "metadata": {},
     "output_type": "display_data"
    }
   ],
   "source": [
    "import matplotlib.pyplot as plt\n",
    "%matplotlib inline\n",
    "\n",
    "plt.plot(accuracy)\n",
    "plt.plot(len(accuracy)-1, accuracy[-1], 'o') \n",
    "plt.text(len(accuracy)-1, accuracy[-1], f'{accuracy[-1]:.4f}', verticalalignment='bottom', horizontalalignment='right')\n",
    "plt.xlabel('number of epochs')\n",
    "plt.ylabel('accuracy')"
   ]
  },
  {
   "cell_type": "markdown",
   "metadata": {},
   "source": [
    "# Visualization"
   ]
  },
  {
   "cell_type": "code",
   "execution_count": 12,
   "metadata": {},
   "outputs": [],
   "source": [
    "y_preds = model(test_x) # Shape [10000, 10]\n",
    "\n",
    "# Take the index with has the highest score as the label\n",
    "y_preds = y_preds.argmax(1) # Shape [10000]"
   ]
  },
  {
   "cell_type": "code",
   "execution_count": 13,
   "metadata": {},
   "outputs": [
    {
     "data": {
      "image/png": "[encoded data removed]",
      "text/plain": [
       "<Figure size 1500x900 with 15 Axes>"
      ]
     },
     "metadata": {},
     "output_type": "display_data"
    }
   ],
   "source": [
    "num_items = 15\n",
    "rows = 3\n",
    "columns = 5\n",
    "fig, axs = plt.subplots(rows, columns, figsize=(3 * columns, 3 * rows))\n",
    "\n",
    "for i in range(num_items):\n",
    "    row = i // columns\n",
    "    col = i % columns\n",
    "    ax = axs[row, col] if rows > 1 else axs[col]\n",
    "    img = test_x[i].reshape(28, 28)\n",
    "    ax.imshow(img)\n",
    "    ax.set_title(f\"Prediction: {y_preds[i].item()}\")\n",
    "    ax.axis('off')\n",
    "\n",
    "plt.tight_layout()\n",
    "plt.show()"
   ]
  },
  {
   "cell_type": "code",
   "execution_count": null,
   "metadata": {},
   "outputs": [],
   "source": []
  }
 ],
 "metadata": {
  "kernelspec": {
   "display_name": "mlx",
   "language": "python",
   "name": "python3"
  },
  "language_info": {
   "codemirror_mode": {
    "name": "ipython",
    "version": 3
   },
   "file_extension": ".py",
   "mimetype": "text/x-python",
   "name": "python",
   "nbconvert_exporter": "python",
   "pygments_lexer": "ipython3",
   "version": "3.8.18"
  }
 },
 "nbformat": 4,
 "nbformat_minor": 2
}
